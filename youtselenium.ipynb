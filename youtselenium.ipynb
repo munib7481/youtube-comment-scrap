{
 "cells": [
  {
   "cell_type": "code",
   "execution_count": 1,
   "id": "6a513dfe-7b57-40f7-8c2e-dd5ed964552c",
   "metadata": {},
   "outputs": [],
   "source": [
    "from selenium import webdriver\n",
    "from selenium.webdriver.common.by import By\n",
    "from selenium.webdriver.common.keys import Keys\n",
    "import time\n",
    "import pandas as pd\n",
    "\n",
    "def scrape_youtube_comments(video_url, max_comments=100):\n",
    "    # Set up the webdriver (make sure you have the appropriate webdriver installed)\n",
    "    driver = webdriver.Chrome()\n",
    "    \n",
    "    # Open the YouTube video\n",
    "    driver.get(video_url)\n",
    "    \n",
    "    # Scroll down to load more comments\n",
    "    body = driver.find_element(By.TAG_NAME, 'body')\n",
    "    for _ in range(max_comments // 20):  # Each scroll usually loads 20 comments\n",
    "        body.send_keys(Keys.END)\n",
    "        time.sleep(2)  # You might need to adjust the sleep time based on your internet speed\n",
    "    \n",
    "    # Extract comments\n",
    "    comments_elements = driver.find_elements(By.CSS_SELECTOR, '#content #content-text')\n",
    "    comments = [comment.text for comment in comments_elements[:max_comments]]\n",
    "    \n",
    "    # Create a Pandas DataFrame\n",
    "    data = {'Comments': comments}\n",
    "    df = pd.DataFrame(data)\n",
    "    \n",
    "    # Print the DataFrame\n",
    "    print(df)\n",
    "\n",
    "    # Close the webdriver\n",
    "    driver.quit()\n",
    "    \n",
    "    # Return the DataFrame\n",
    "    return df\n",
    "\n",
    "# Example usage\n",
    "# video_url = \"https://youtu.be/vxCSNQestwU?si=kVM2H-5VcMbw5e7m\"\n",
    "# comments_df = scrape_youtube_comments(video_url)\n",
    "\n",
    "# # Now you can use 'comments_df' outside the function\n",
    "# # For example, print the first 5 rows of the DataFrame\n",
    "# print(comments_df.head())\n"
   ]
  },
  {
   "cell_type": "code",
   "execution_count": 3,
   "id": "8b0ff665-ac12-4084-81b4-2b8d05719927",
   "metadata": {},
   "outputs": [
    {
     "name": "stdout",
     "output_type": "stream",
     "text": [
      "                                             Comments\n",
      "0   Kon kon india se feroz khan ka fan h me to hu ...\n",
      "1   خدایا عشق محمدﷺ میں ایسا بھی مقام آئے\\nکہ سانس...\n",
      "2   Such a multi talented actor...!!!!\\nWho is her...\n",
      "3   Kis ks ko mAza arha feroz Khan ki acting dekh ...\n",
      "4   Namaz is the permanent solution of all problem...\n",
      "5   Kon Kon sirf feroz Khan ki waja sy yeh Darama ...\n",
      "6          How many indians are here for  feroz khan \n",
      "7   Feroze khan acting, expression, dialogues was ...\n",
      "8   No one can beat the magic of Feroz Khan as Dil...\n",
      "9   Kon kon Chahta K Akhara ka  Har Episode Trendi...\n",
      "10  Namaz is the solution of all permanant problem...\n",
      "11  Kon kon manta hai k Feroz Khan Pakistan indust...\n",
      "12  Feroze Khan Fans assemble here..\\n\\nLove from ...\n",
      "13    Finally our boy DILSHER met his lahoran Sitara!\n",
      "14                         Last scene  Sher smilessss\n",
      "15  Hazrat Muhammad PBUH is the greatest personali...\n",
      "16  The one an only king  feroz of whole industry ...\n",
      "17       DiLSHER Ki Behan cutest character in Akhara \n",
      "18  Feroz khan  Number_1_ actor  in Pakistan  ️My ...\n",
      "19                  Uffff acting level of feroze khan\n"
     ]
    }
   ],
   "source": [
    "video_url = \"https://youtu.be/vxCSNQestwU?si=kVM2H-5VcMbw5e7m\"\n",
    "comments_df = scrape_youtube_comments(video_url)\n"
   ]
  },
  {
   "cell_type": "code",
   "execution_count": 4,
   "id": "05fe04e1-08aa-4bb5-ab01-25b92801bac2",
   "metadata": {},
   "outputs": [
    {
     "name": "stdout",
     "output_type": "stream",
     "text": [
      "                                            Comments\n",
      "0  Namaz is the permanent solution of all problem...\n",
      "1  Such a multi talented actor...!!!!\\nWho is her...\n",
      "2  Kon kon india se feroz khan ka fan h me to hu ...\n",
      "3  I'm stone heart boy but I can't control my tea...\n",
      "4  Kis ks ko mAza arha feroz Khan ki acting dekh ...\n"
     ]
    }
   ],
   "source": [
    "print(comments_df.head())\n"
   ]
  },
  {
   "cell_type": "code",
   "execution_count": null,
   "id": "892b49db-051b-4468-b021-07b180095a51",
   "metadata": {},
   "outputs": [],
   "source": []
  }
 ],
 "metadata": {
  "kernelspec": {
   "display_name": "Python 3 (ipykernel)",
   "language": "python",
   "name": "python3"
  },
  "language_info": {
   "codemirror_mode": {
    "name": "ipython",
    "version": 3
   },
   "file_extension": ".py",
   "mimetype": "text/x-python",
   "name": "python",
   "nbconvert_exporter": "python",
   "pygments_lexer": "ipython3",
   "version": "3.11.2"
  }
 },
 "nbformat": 4,
 "nbformat_minor": 5
}
